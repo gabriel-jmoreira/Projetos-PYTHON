{
 "cells": [
  {
   "cell_type": "code",
   "execution_count": 6,
   "id": "84e8c149",
   "metadata": {},
   "outputs": [],
   "source": [
    "from selenium import webdriver\n",
    "from selenium.webdriver.chrome.service import Service\n",
    "from webdriver_manager.chrome import ChromeDriverManager\n",
    "from selenium.webdriver.common.keys import Keys\n",
    "from selenium.webdriver.common.by import By\n",
    "import time\n",
    "\n",
    "servico = Service(ChromeDriverManager().install())\n",
    "navegador = webdriver.Chrome(service=servico)\n",
    "time.sleep(3)"
   ]
  },
  {
   "cell_type": "code",
   "execution_count": 7,
   "id": "c4fbf734",
   "metadata": {},
   "outputs": [],
   "source": [
    "#aqui nesta etapa você escolhe por meio do GET qual site\n",
    "navegador.get('https://www.linkedin.com/home')\n",
    "time.sleep(3)"
   ]
  },
  {
   "cell_type": "code",
   "execution_count": 8,
   "id": "7e13a285",
   "metadata": {},
   "outputs": [],
   "source": [
    "#pode ser ID,XPATH,CLASS_NAME    \n",
    "#find_element apenas um item \n",
    "#find_elements uma lista de elementos \n",
    "#duvida entrar na documentação do selenium e ver localizar elementos\n",
    "from selenium.webdriver.common.by import By\n",
    "\n",
    "#LOGAR NO LINKEDIN\n",
    "#apagar caso tenha algo escrito\n",
    "#limpar = navegador.find_element(By.ID, \"session_key\").clear()\n",
    "#E-mail para logar no linkedin\n",
    "campo_email = navegador.find_element(By.ID, \"session_key\").send_keys('g.quadrado@outlook.com')\n",
    "#Senha do linkedin\n",
    "campo_senha = navegador.find_element(By.ID, \"session_password\").send_keys('454622gb')\n",
    "#clicar em entrar\n",
    "campo_entrar = navegador.find_element(By.XPATH, '//*[@id=\"main-content\"]/section[1]/div/div/form/div[2]/button').click()\n",
    "\n",
    "#TEMPO DE ESPERA\n",
    "time.sleep(5)\n",
    "\n",
    "#Clicar em pesquisar por palavra chave - falta clicar em enter\n",
    "pesquisar = navegador.find_element(By.CLASS_NAME, 'search-global-typeahead__input').send_keys('tech recruter', Keys.ENTER)\n",
    "#agora clicar para confirmar\n",
    "time.sleep(3)\n",
    "pessoa = navegador.find_element(By.XPATH, '//*[@id=\"search-reusables__filters-bar\"]/ul/li[1]/button').click()\n",
    "print('FEITO')\n",
    "#pegar tamanho da lista de elementos\n",
    "#print(len(lista_elementos))"
   ]
  },
  {
   "cell_type": "code",
   "execution_count": 9,
   "id": "c06bd397",
   "metadata": {},
   "outputs": [
    {
     "name": "stdout",
     "output_type": "stream",
     "text": [
      "FEITO\n"
     ]
    }
   ],
   "source": []
  },
  {
   "cell_type": "code",
   "execution_count": 12,
   "id": "19a13c4e",
   "metadata": {},
   "outputs": [
    {
     "name": "stdout",
     "output_type": "stream",
     "text": [
      "https://www.linkedin.com/in/limbertcoronado?miniProfileUrn=urn%3Ali%3Afs_miniProfile%3AACoAADjuM2IBlLqpairPSXERsirUQYNVFThYJ_s\n"
     ]
    },
    {
     "ename": "StaleElementReferenceException",
     "evalue": "Message: stale element reference: stale element not found\n  (Session info: chrome=114.0.5735.110)\nStacktrace:\nBacktrace:\n\tGetHandleVerifier [0x007CA813+48355]\n\t(No symbol) [0x0075C4B1]\n\t(No symbol) [0x00665358]\n\t(No symbol) [0x0066E5A3]\n\t(No symbol) [0x00668A78]\n\t(No symbol) [0x00667C03]\n\t(No symbol) [0x006699E1]\n\t(No symbol) [0x00669A80]\n\t(No symbol) [0x0069061C]\n\t(No symbol) [0x00690B3B]\n\t(No symbol) [0x00689AE1]\n\t(No symbol) [0x006AA784]\n\t(No symbol) [0x00689A36]\n\t(No symbol) [0x006AAA94]\n\t(No symbol) [0x006BC922]\n\t(No symbol) [0x006AA536]\n\t(No symbol) [0x006882DC]\n\t(No symbol) [0x006893DD]\n\tGetHandleVerifier [0x00A2AABD+2539405]\n\tGetHandleVerifier [0x00A6A78F+2800735]\n\tGetHandleVerifier [0x00A6456C+2775612]\n\tGetHandleVerifier [0x008551E0+616112]\n\t(No symbol) [0x00765F8C]\n\t(No symbol) [0x00762328]\n\t(No symbol) [0x0076240B]\n\t(No symbol) [0x00754FF7]\n\tBaseThreadInitThunk [0x75F100C9+25]\n\tRtlGetAppContainerNamedObjectPath [0x772B7B4E+286]\n\tRtlGetAppContainerNamedObjectPath [0x772B7B1E+238]\n",
     "output_type": "error",
     "traceback": [
      "\u001b[1;31m---------------------------------------------------------------------------\u001b[0m",
      "\u001b[1;31mStaleElementReferenceException\u001b[0m            Traceback (most recent call last)",
      "\u001b[1;32m~\\AppData\\Local\\Temp\\ipykernel_11312\\3699117625.py\u001b[0m in \u001b[0;36m<module>\u001b[1;34m\u001b[0m\n\u001b[0;32m      2\u001b[0m \u001b[1;31m#aqui conseguimos pegar todos os links e abrir apenas o primeiro falta entender como abre um de cada vez\u001b[0m\u001b[1;33m\u001b[0m\u001b[1;33m\u001b[0m\u001b[0m\n\u001b[0;32m      3\u001b[0m \u001b[1;32mfor\u001b[0m \u001b[0melemento\u001b[0m \u001b[1;32min\u001b[0m \u001b[0mlista_elementos\u001b[0m\u001b[1;33m:\u001b[0m\u001b[1;33m\u001b[0m\u001b[1;33m\u001b[0m\u001b[0m\n\u001b[1;32m----> 4\u001b[1;33m     \u001b[0mlink\u001b[0m \u001b[1;33m=\u001b[0m \u001b[0melemento\u001b[0m\u001b[1;33m.\u001b[0m\u001b[0mfind_element\u001b[0m\u001b[1;33m(\u001b[0m\u001b[0mBy\u001b[0m\u001b[1;33m.\u001b[0m\u001b[0mTAG_NAME\u001b[0m\u001b[1;33m,\u001b[0m \u001b[1;34m'a'\u001b[0m\u001b[1;33m)\u001b[0m\u001b[1;33m.\u001b[0m\u001b[0mget_attribute\u001b[0m\u001b[1;33m(\u001b[0m\u001b[1;34m'href'\u001b[0m\u001b[1;33m)\u001b[0m\u001b[1;33m\u001b[0m\u001b[1;33m\u001b[0m\u001b[0m\n\u001b[0m\u001b[0;32m      5\u001b[0m     \u001b[0mprint\u001b[0m\u001b[1;33m(\u001b[0m\u001b[0mlink\u001b[0m\u001b[1;33m)\u001b[0m\u001b[1;33m\u001b[0m\u001b[1;33m\u001b[0m\u001b[0m\n\u001b[0;32m      6\u001b[0m     \u001b[0mnavegador\u001b[0m\u001b[1;33m.\u001b[0m\u001b[0mget\u001b[0m\u001b[1;33m(\u001b[0m\u001b[0mlink\u001b[0m\u001b[1;33m)\u001b[0m\u001b[1;33m\u001b[0m\u001b[1;33m\u001b[0m\u001b[0m\n",
      "\u001b[1;32m~\\anaconda3\\lib\\site-packages\\selenium\\webdriver\\remote\\webelement.py\u001b[0m in \u001b[0;36mfind_element\u001b[1;34m(self, by, value)\u001b[0m\n\u001b[0;32m    423\u001b[0m             \u001b[0mvalue\u001b[0m \u001b[1;33m=\u001b[0m \u001b[1;34mf'[name=\"{value}\"]'\u001b[0m\u001b[1;33m\u001b[0m\u001b[1;33m\u001b[0m\u001b[0m\n\u001b[0;32m    424\u001b[0m \u001b[1;33m\u001b[0m\u001b[0m\n\u001b[1;32m--> 425\u001b[1;33m         \u001b[1;32mreturn\u001b[0m \u001b[0mself\u001b[0m\u001b[1;33m.\u001b[0m\u001b[0m_execute\u001b[0m\u001b[1;33m(\u001b[0m\u001b[0mCommand\u001b[0m\u001b[1;33m.\u001b[0m\u001b[0mFIND_CHILD_ELEMENT\u001b[0m\u001b[1;33m,\u001b[0m \u001b[1;33m{\u001b[0m\u001b[1;34m\"using\"\u001b[0m\u001b[1;33m:\u001b[0m \u001b[0mby\u001b[0m\u001b[1;33m,\u001b[0m \u001b[1;34m\"value\"\u001b[0m\u001b[1;33m:\u001b[0m \u001b[0mvalue\u001b[0m\u001b[1;33m}\u001b[0m\u001b[1;33m)\u001b[0m\u001b[1;33m[\u001b[0m\u001b[1;34m\"value\"\u001b[0m\u001b[1;33m]\u001b[0m\u001b[1;33m\u001b[0m\u001b[1;33m\u001b[0m\u001b[0m\n\u001b[0m\u001b[0;32m    426\u001b[0m \u001b[1;33m\u001b[0m\u001b[0m\n\u001b[0;32m    427\u001b[0m     \u001b[1;32mdef\u001b[0m \u001b[0mfind_elements\u001b[0m\u001b[1;33m(\u001b[0m\u001b[0mself\u001b[0m\u001b[1;33m,\u001b[0m \u001b[0mby\u001b[0m\u001b[1;33m=\u001b[0m\u001b[0mBy\u001b[0m\u001b[1;33m.\u001b[0m\u001b[0mID\u001b[0m\u001b[1;33m,\u001b[0m \u001b[0mvalue\u001b[0m\u001b[1;33m=\u001b[0m\u001b[1;32mNone\u001b[0m\u001b[1;33m)\u001b[0m \u001b[1;33m->\u001b[0m \u001b[0mList\u001b[0m\u001b[1;33m[\u001b[0m\u001b[0mWebElement\u001b[0m\u001b[1;33m]\u001b[0m\u001b[1;33m:\u001b[0m\u001b[1;33m\u001b[0m\u001b[1;33m\u001b[0m\u001b[0m\n",
      "\u001b[1;32m~\\anaconda3\\lib\\site-packages\\selenium\\webdriver\\remote\\webelement.py\u001b[0m in \u001b[0;36m_execute\u001b[1;34m(self, command, params)\u001b[0m\n\u001b[0;32m    401\u001b[0m             \u001b[0mparams\u001b[0m \u001b[1;33m=\u001b[0m \u001b[1;33m{\u001b[0m\u001b[1;33m}\u001b[0m\u001b[1;33m\u001b[0m\u001b[1;33m\u001b[0m\u001b[0m\n\u001b[0;32m    402\u001b[0m         \u001b[0mparams\u001b[0m\u001b[1;33m[\u001b[0m\u001b[1;34m\"id\"\u001b[0m\u001b[1;33m]\u001b[0m \u001b[1;33m=\u001b[0m \u001b[0mself\u001b[0m\u001b[1;33m.\u001b[0m\u001b[0m_id\u001b[0m\u001b[1;33m\u001b[0m\u001b[1;33m\u001b[0m\u001b[0m\n\u001b[1;32m--> 403\u001b[1;33m         \u001b[1;32mreturn\u001b[0m \u001b[0mself\u001b[0m\u001b[1;33m.\u001b[0m\u001b[0m_parent\u001b[0m\u001b[1;33m.\u001b[0m\u001b[0mexecute\u001b[0m\u001b[1;33m(\u001b[0m\u001b[0mcommand\u001b[0m\u001b[1;33m,\u001b[0m \u001b[0mparams\u001b[0m\u001b[1;33m)\u001b[0m\u001b[1;33m\u001b[0m\u001b[1;33m\u001b[0m\u001b[0m\n\u001b[0m\u001b[0;32m    404\u001b[0m \u001b[1;33m\u001b[0m\u001b[0m\n\u001b[0;32m    405\u001b[0m     \u001b[1;32mdef\u001b[0m \u001b[0mfind_element\u001b[0m\u001b[1;33m(\u001b[0m\u001b[0mself\u001b[0m\u001b[1;33m,\u001b[0m \u001b[0mby\u001b[0m\u001b[1;33m=\u001b[0m\u001b[0mBy\u001b[0m\u001b[1;33m.\u001b[0m\u001b[0mID\u001b[0m\u001b[1;33m,\u001b[0m \u001b[0mvalue\u001b[0m\u001b[1;33m=\u001b[0m\u001b[1;32mNone\u001b[0m\u001b[1;33m)\u001b[0m \u001b[1;33m->\u001b[0m \u001b[0mWebElement\u001b[0m\u001b[1;33m:\u001b[0m\u001b[1;33m\u001b[0m\u001b[1;33m\u001b[0m\u001b[0m\n",
      "\u001b[1;32m~\\anaconda3\\lib\\site-packages\\selenium\\webdriver\\remote\\webdriver.py\u001b[0m in \u001b[0;36mexecute\u001b[1;34m(self, driver_command, params)\u001b[0m\n\u001b[0;32m    438\u001b[0m         \u001b[0mresponse\u001b[0m \u001b[1;33m=\u001b[0m \u001b[0mself\u001b[0m\u001b[1;33m.\u001b[0m\u001b[0mcommand_executor\u001b[0m\u001b[1;33m.\u001b[0m\u001b[0mexecute\u001b[0m\u001b[1;33m(\u001b[0m\u001b[0mdriver_command\u001b[0m\u001b[1;33m,\u001b[0m \u001b[0mparams\u001b[0m\u001b[1;33m)\u001b[0m\u001b[1;33m\u001b[0m\u001b[1;33m\u001b[0m\u001b[0m\n\u001b[0;32m    439\u001b[0m         \u001b[1;32mif\u001b[0m \u001b[0mresponse\u001b[0m\u001b[1;33m:\u001b[0m\u001b[1;33m\u001b[0m\u001b[1;33m\u001b[0m\u001b[0m\n\u001b[1;32m--> 440\u001b[1;33m             \u001b[0mself\u001b[0m\u001b[1;33m.\u001b[0m\u001b[0merror_handler\u001b[0m\u001b[1;33m.\u001b[0m\u001b[0mcheck_response\u001b[0m\u001b[1;33m(\u001b[0m\u001b[0mresponse\u001b[0m\u001b[1;33m)\u001b[0m\u001b[1;33m\u001b[0m\u001b[1;33m\u001b[0m\u001b[0m\n\u001b[0m\u001b[0;32m    441\u001b[0m             \u001b[0mresponse\u001b[0m\u001b[1;33m[\u001b[0m\u001b[1;34m\"value\"\u001b[0m\u001b[1;33m]\u001b[0m \u001b[1;33m=\u001b[0m \u001b[0mself\u001b[0m\u001b[1;33m.\u001b[0m\u001b[0m_unwrap_value\u001b[0m\u001b[1;33m(\u001b[0m\u001b[0mresponse\u001b[0m\u001b[1;33m.\u001b[0m\u001b[0mget\u001b[0m\u001b[1;33m(\u001b[0m\u001b[1;34m\"value\"\u001b[0m\u001b[1;33m,\u001b[0m \u001b[1;32mNone\u001b[0m\u001b[1;33m)\u001b[0m\u001b[1;33m)\u001b[0m\u001b[1;33m\u001b[0m\u001b[1;33m\u001b[0m\u001b[0m\n\u001b[0;32m    442\u001b[0m             \u001b[1;32mreturn\u001b[0m \u001b[0mresponse\u001b[0m\u001b[1;33m\u001b[0m\u001b[1;33m\u001b[0m\u001b[0m\n",
      "\u001b[1;32m~\\anaconda3\\lib\\site-packages\\selenium\\webdriver\\remote\\errorhandler.py\u001b[0m in \u001b[0;36mcheck_response\u001b[1;34m(self, response)\u001b[0m\n\u001b[0;32m    243\u001b[0m                 \u001b[0malert_text\u001b[0m \u001b[1;33m=\u001b[0m \u001b[0mvalue\u001b[0m\u001b[1;33m[\u001b[0m\u001b[1;34m\"alert\"\u001b[0m\u001b[1;33m]\u001b[0m\u001b[1;33m.\u001b[0m\u001b[0mget\u001b[0m\u001b[1;33m(\u001b[0m\u001b[1;34m\"text\"\u001b[0m\u001b[1;33m)\u001b[0m\u001b[1;33m\u001b[0m\u001b[1;33m\u001b[0m\u001b[0m\n\u001b[0;32m    244\u001b[0m             \u001b[1;32mraise\u001b[0m \u001b[0mexception_class\u001b[0m\u001b[1;33m(\u001b[0m\u001b[0mmessage\u001b[0m\u001b[1;33m,\u001b[0m \u001b[0mscreen\u001b[0m\u001b[1;33m,\u001b[0m \u001b[0mstacktrace\u001b[0m\u001b[1;33m,\u001b[0m \u001b[0malert_text\u001b[0m\u001b[1;33m)\u001b[0m  \u001b[1;31m# type: ignore[call-arg]  # mypy is not smart enough here\u001b[0m\u001b[1;33m\u001b[0m\u001b[1;33m\u001b[0m\u001b[0m\n\u001b[1;32m--> 245\u001b[1;33m         \u001b[1;32mraise\u001b[0m \u001b[0mexception_class\u001b[0m\u001b[1;33m(\u001b[0m\u001b[0mmessage\u001b[0m\u001b[1;33m,\u001b[0m \u001b[0mscreen\u001b[0m\u001b[1;33m,\u001b[0m \u001b[0mstacktrace\u001b[0m\u001b[1;33m)\u001b[0m\u001b[1;33m\u001b[0m\u001b[1;33m\u001b[0m\u001b[0m\n\u001b[0m",
      "\u001b[1;31mStaleElementReferenceException\u001b[0m: Message: stale element reference: stale element not found\n  (Session info: chrome=114.0.5735.110)\nStacktrace:\nBacktrace:\n\tGetHandleVerifier [0x007CA813+48355]\n\t(No symbol) [0x0075C4B1]\n\t(No symbol) [0x00665358]\n\t(No symbol) [0x0066E5A3]\n\t(No symbol) [0x00668A78]\n\t(No symbol) [0x00667C03]\n\t(No symbol) [0x006699E1]\n\t(No symbol) [0x00669A80]\n\t(No symbol) [0x0069061C]\n\t(No symbol) [0x00690B3B]\n\t(No symbol) [0x00689AE1]\n\t(No symbol) [0x006AA784]\n\t(No symbol) [0x00689A36]\n\t(No symbol) [0x006AAA94]\n\t(No symbol) [0x006BC922]\n\t(No symbol) [0x006AA536]\n\t(No symbol) [0x006882DC]\n\t(No symbol) [0x006893DD]\n\tGetHandleVerifier [0x00A2AABD+2539405]\n\tGetHandleVerifier [0x00A6A78F+2800735]\n\tGetHandleVerifier [0x00A6456C+2775612]\n\tGetHandleVerifier [0x008551E0+616112]\n\t(No symbol) [0x00765F8C]\n\t(No symbol) [0x00762328]\n\t(No symbol) [0x0076240B]\n\t(No symbol) [0x00754FF7]\n\tBaseThreadInitThunk [0x75F100C9+25]\n\tRtlGetAppContainerNamedObjectPath [0x772B7B4E+286]\n\tRtlGetAppContainerNamedObjectPath [0x772B7B1E+238]\n"
     ]
    }
   ],
   "source": [
    "lista_elementos = navegador.find_elements(By.CLASS_NAME, 'reusable-search__result-container')\n",
    "#aqui conseguimos pegar todos os links e abrir apenas o primeiro falta entender como abre um de cada vez\n",
    "for elemento in lista_elementos:\n",
    "    link = elemento.find_element(By.TAG_NAME, 'a').get_attribute('href')\n",
    "    print(link)\n",
    "    navegador.get(link)\n",
    "    time.sleep(2)"
   ]
  },
  {
   "cell_type": "code",
   "execution_count": 35,
   "id": "e56c0b0b",
   "metadata": {},
   "outputs": [
    {
     "name": "stdout",
     "output_type": "stream",
     "text": [
      "[<selenium.webdriver.remote.webelement.WebElement (session=\"0e043d5aa3dd30d26d6a623bdca38da3\", element=\"4A2734C6D1CF090339582073C62ECE80_element_91\")>, <selenium.webdriver.remote.webelement.WebElement (session=\"0e043d5aa3dd30d26d6a623bdca38da3\", element=\"4A2734C6D1CF090339582073C62ECE80_element_667\")>, <selenium.webdriver.remote.webelement.WebElement (session=\"0e043d5aa3dd30d26d6a623bdca38da3\", element=\"4A2734C6D1CF090339582073C62ECE80_element_668\")>, <selenium.webdriver.remote.webelement.WebElement (session=\"0e043d5aa3dd30d26d6a623bdca38da3\", element=\"4A2734C6D1CF090339582073C62ECE80_element_669\")>, <selenium.webdriver.remote.webelement.WebElement (session=\"0e043d5aa3dd30d26d6a623bdca38da3\", element=\"4A2734C6D1CF090339582073C62ECE80_element_670\")>, <selenium.webdriver.remote.webelement.WebElement (session=\"0e043d5aa3dd30d26d6a623bdca38da3\", element=\"4A2734C6D1CF090339582073C62ECE80_element_671\")>, <selenium.webdriver.remote.webelement.WebElement (session=\"0e043d5aa3dd30d26d6a623bdca38da3\", element=\"4A2734C6D1CF090339582073C62ECE80_element_672\")>, <selenium.webdriver.remote.webelement.WebElement (session=\"0e043d5aa3dd30d26d6a623bdca38da3\", element=\"4A2734C6D1CF090339582073C62ECE80_element_673\")>, <selenium.webdriver.remote.webelement.WebElement (session=\"0e043d5aa3dd30d26d6a623bdca38da3\", element=\"4A2734C6D1CF090339582073C62ECE80_element_674\")>]\n"
     ]
    }
   ],
   "source": [
    "botoes = navegador.find_elements(By.CLASS_NAME, 'ph5')\n",
    "print(botoes)\n",
    "link = elemento.find_element(By.TAG_NAME, 'button')\n",
    "elemento.click()\n",
    "    #clicou na mensagem em vez do conectar"
   ]
  },
  {
   "cell_type": "code",
   "execution_count": null,
   "id": "c5ef691d",
   "metadata": {},
   "outputs": [],
   "source": []
  },
  {
   "cell_type": "code",
   "execution_count": null,
   "id": "2c545991",
   "metadata": {},
   "outputs": [],
   "source": [
    "#codigo funcionando perfeitamente daqui pra cima são testes\n",
    "#time.sleep(2)\n",
    "#Botão de enviar nota ou seja deixar mensagem funcionando perfeitamente.\n",
    "#botoes = navegador.find_element(By.CLASS_NAME, 'artdeco-button--secondary').click()#if mensagem >= 0:\n",
    "\n",
    "\n",
    "\n",
    "\n",
    "#    print('ok temos mais de 1')\n",
    "#boasvindas = '''Olá, me chamo Gabriel sou desenvolvedor Python com 3 anos de experiência no mercado de desenvolvimento com a linguagem python, e estou entrando em contato com você inclusive por meio de uma automação criei para enviar mensagens automática para possíveis recrutadores que possam ter vagas python.'''\n",
    "#mensagempadraão = '''\n",
    "#Olá, prazer me chamo Gabriel sou desenvolvedor Python com 3 anos de experiência no mercado de desenvolvimento com a linguagem python para empresas, e estou entrando em contato com você inclusive por meio de uma automação criei para enviar mensagens automatica para possiveis recrutadores que possam ter novas oportunidades.\n",
    "# Sou um entusiasta de Python e venho desenvolvendo projetos pessoais e acadêmicos utilizando essa linguagem de programação. Tenho de experiência com bibliotecas amplamente utilizadas, como NumPy e Pandas. Também estou já trabalhei com bancos de dados relacionais e não relacionais, o que me permite criar soluções completas e eficientes.\n",
    "# Além das habilidades técnicas, também possuo excelentes habilidades de resolução de problemas, pensamento lógico e capacidade de trabalhar em equipe. Sou uma pessoa comprometida, proativa e sempre busco me manter atualizado com as últimas tendências e melhores práticas na área de desenvolvimento em Python.'''\n",
    "#texto = navegador.find_element(By.ID, 'custom-message').send_keys(mensagempadraão)\n"
   ]
  },
  {
   "cell_type": "code",
   "execution_count": null,
   "id": "b586d036",
   "metadata": {},
   "outputs": [],
   "source": []
  }
 ],
 "metadata": {
  "kernelspec": {
   "display_name": "Python 3 (ipykernel)",
   "language": "python",
   "name": "python3"
  },
  "language_info": {
   "codemirror_mode": {
    "name": "ipython",
    "version": 3
   },
   "file_extension": ".py",
   "mimetype": "text/x-python",
   "name": "python",
   "nbconvert_exporter": "python",
   "pygments_lexer": "ipython3",
   "version": "3.9.13"
  }
 },
 "nbformat": 4,
 "nbformat_minor": 5
}
