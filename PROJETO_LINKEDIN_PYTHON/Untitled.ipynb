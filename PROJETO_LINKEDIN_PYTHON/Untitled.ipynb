{
 "cells": [
  {
   "cell_type": "code",
   "execution_count": 2,
   "id": "11ee3730",
   "metadata": {},
   "outputs": [
    {
     "ename": "NoSuchElementException",
     "evalue": "Message: no such element: Unable to locate element: {\"method\":\"css selector\",\"selector\":\"[id=\"_aa48\"]\"}\n  (Session info: chrome=113.0.5672.94)\nStacktrace:\nBacktrace:\n\tGetHandleVerifier [0x00C9DCE3+50899]\n\t(No symbol) [0x00C2E111]\n\t(No symbol) [0x00B35588]\n\t(No symbol) [0x00B608F9]\n\t(No symbol) [0x00B60AFB]\n\t(No symbol) [0x00B8F902]\n\t(No symbol) [0x00B7B944]\n\t(No symbol) [0x00B8E01C]\n\t(No symbol) [0x00B7B6F6]\n\t(No symbol) [0x00B57708]\n\t(No symbol) [0x00B5886D]\n\tGetHandleVerifier [0x00F03EAE+2566302]\n\tGetHandleVerifier [0x00F392B1+2784417]\n\tGetHandleVerifier [0x00F3327C+2759788]\n\tGetHandleVerifier [0x00D35740+672048]\n\t(No symbol) [0x00C38872]\n\t(No symbol) [0x00C341C8]\n\t(No symbol) [0x00C342AB]\n\t(No symbol) [0x00C271B7]\n\tBaseThreadInitThunk [0x765C00C9+25]\n\tRtlGetAppContainerNamedObjectPath [0x77857B4E+286]\n\tRtlGetAppContainerNamedObjectPath [0x77857B1E+238]\n",
     "output_type": "error",
     "traceback": [
      "\u001b[1;31m---------------------------------------------------------------------------\u001b[0m",
      "\u001b[1;31mNoSuchElementException\u001b[0m                    Traceback (most recent call last)",
      "\u001b[1;32m~\\AppData\\Local\\Temp\\ipykernel_11484\\1485140585.py\u001b[0m in \u001b[0;36m<module>\u001b[1;34m\u001b[0m\n\u001b[0;32m     12\u001b[0m \u001b[1;31m# Localizar os campos de login e senha e preenchê-los\u001b[0m\u001b[1;33m\u001b[0m\u001b[1;33m\u001b[0m\u001b[0m\n\u001b[0;32m     13\u001b[0m \u001b[0mlogin\u001b[0m \u001b[1;33m=\u001b[0m \u001b[0mdriver\u001b[0m\u001b[1;33m.\u001b[0m\u001b[0mfind_element\u001b[0m\u001b[1;33m(\u001b[0m\u001b[0mBy\u001b[0m\u001b[1;33m.\u001b[0m\u001b[0mCLASS_NAME\u001b[0m\u001b[1;33m,\u001b[0m \u001b[1;34m'_aa48'\u001b[0m\u001b[1;33m)\u001b[0m  \u001b[1;31m# Substitua 'id_do_campo_de_login' pelo ID correto do campo de login\u001b[0m\u001b[1;33m\u001b[0m\u001b[1;33m\u001b[0m\u001b[0m\n\u001b[1;32m---> 14\u001b[1;33m \u001b[0msenha\u001b[0m \u001b[1;33m=\u001b[0m \u001b[0mdriver\u001b[0m\u001b[1;33m.\u001b[0m\u001b[0mfind_element\u001b[0m\u001b[1;33m(\u001b[0m\u001b[0mBy\u001b[0m\u001b[1;33m.\u001b[0m\u001b[0mID\u001b[0m\u001b[1;33m,\u001b[0m \u001b[1;34m'_aa48'\u001b[0m\u001b[1;33m)\u001b[0m  \u001b[1;31m# Substitua 'id_do_campo_de_senha' pelo ID correto do campo de senha\u001b[0m\u001b[1;33m\u001b[0m\u001b[1;33m\u001b[0m\u001b[0m\n\u001b[0m\u001b[0;32m     15\u001b[0m \u001b[1;33m\u001b[0m\u001b[0m\n\u001b[0;32m     16\u001b[0m \u001b[0mlogin\u001b[0m\u001b[1;33m.\u001b[0m\u001b[0msend_keys\u001b[0m\u001b[1;33m(\u001b[0m\u001b[1;34m'opa_quadrado'\u001b[0m\u001b[1;33m)\u001b[0m  \u001b[1;31m# Substitua 'SEU_LOGIN' pelo login correto\u001b[0m\u001b[1;33m\u001b[0m\u001b[1;33m\u001b[0m\u001b[0m\n",
      "\u001b[1;32m~\\anaconda3\\lib\\site-packages\\selenium\\webdriver\\remote\\webdriver.py\u001b[0m in \u001b[0;36mfind_element\u001b[1;34m(self, by, value)\u001b[0m\n\u001b[0;32m    829\u001b[0m             \u001b[0mvalue\u001b[0m \u001b[1;33m=\u001b[0m \u001b[1;34mf'[name=\"{value}\"]'\u001b[0m\u001b[1;33m\u001b[0m\u001b[1;33m\u001b[0m\u001b[0m\n\u001b[0;32m    830\u001b[0m \u001b[1;33m\u001b[0m\u001b[0m\n\u001b[1;32m--> 831\u001b[1;33m         \u001b[1;32mreturn\u001b[0m \u001b[0mself\u001b[0m\u001b[1;33m.\u001b[0m\u001b[0mexecute\u001b[0m\u001b[1;33m(\u001b[0m\u001b[0mCommand\u001b[0m\u001b[1;33m.\u001b[0m\u001b[0mFIND_ELEMENT\u001b[0m\u001b[1;33m,\u001b[0m \u001b[1;33m{\u001b[0m\u001b[1;34m\"using\"\u001b[0m\u001b[1;33m:\u001b[0m \u001b[0mby\u001b[0m\u001b[1;33m,\u001b[0m \u001b[1;34m\"value\"\u001b[0m\u001b[1;33m:\u001b[0m \u001b[0mvalue\u001b[0m\u001b[1;33m}\u001b[0m\u001b[1;33m)\u001b[0m\u001b[1;33m[\u001b[0m\u001b[1;34m\"value\"\u001b[0m\u001b[1;33m]\u001b[0m\u001b[1;33m\u001b[0m\u001b[1;33m\u001b[0m\u001b[0m\n\u001b[0m\u001b[0;32m    832\u001b[0m \u001b[1;33m\u001b[0m\u001b[0m\n\u001b[0;32m    833\u001b[0m     \u001b[1;32mdef\u001b[0m \u001b[0mfind_elements\u001b[0m\u001b[1;33m(\u001b[0m\u001b[0mself\u001b[0m\u001b[1;33m,\u001b[0m \u001b[0mby\u001b[0m\u001b[1;33m=\u001b[0m\u001b[0mBy\u001b[0m\u001b[1;33m.\u001b[0m\u001b[0mID\u001b[0m\u001b[1;33m,\u001b[0m \u001b[0mvalue\u001b[0m\u001b[1;33m:\u001b[0m \u001b[0mOptional\u001b[0m\u001b[1;33m[\u001b[0m\u001b[0mstr\u001b[0m\u001b[1;33m]\u001b[0m \u001b[1;33m=\u001b[0m \u001b[1;32mNone\u001b[0m\u001b[1;33m)\u001b[0m \u001b[1;33m->\u001b[0m \u001b[0mList\u001b[0m\u001b[1;33m[\u001b[0m\u001b[0mWebElement\u001b[0m\u001b[1;33m]\u001b[0m\u001b[1;33m:\u001b[0m\u001b[1;33m\u001b[0m\u001b[1;33m\u001b[0m\u001b[0m\n",
      "\u001b[1;32m~\\anaconda3\\lib\\site-packages\\selenium\\webdriver\\remote\\webdriver.py\u001b[0m in \u001b[0;36mexecute\u001b[1;34m(self, driver_command, params)\u001b[0m\n\u001b[0;32m    438\u001b[0m         \u001b[0mresponse\u001b[0m \u001b[1;33m=\u001b[0m \u001b[0mself\u001b[0m\u001b[1;33m.\u001b[0m\u001b[0mcommand_executor\u001b[0m\u001b[1;33m.\u001b[0m\u001b[0mexecute\u001b[0m\u001b[1;33m(\u001b[0m\u001b[0mdriver_command\u001b[0m\u001b[1;33m,\u001b[0m \u001b[0mparams\u001b[0m\u001b[1;33m)\u001b[0m\u001b[1;33m\u001b[0m\u001b[1;33m\u001b[0m\u001b[0m\n\u001b[0;32m    439\u001b[0m         \u001b[1;32mif\u001b[0m \u001b[0mresponse\u001b[0m\u001b[1;33m:\u001b[0m\u001b[1;33m\u001b[0m\u001b[1;33m\u001b[0m\u001b[0m\n\u001b[1;32m--> 440\u001b[1;33m             \u001b[0mself\u001b[0m\u001b[1;33m.\u001b[0m\u001b[0merror_handler\u001b[0m\u001b[1;33m.\u001b[0m\u001b[0mcheck_response\u001b[0m\u001b[1;33m(\u001b[0m\u001b[0mresponse\u001b[0m\u001b[1;33m)\u001b[0m\u001b[1;33m\u001b[0m\u001b[1;33m\u001b[0m\u001b[0m\n\u001b[0m\u001b[0;32m    441\u001b[0m             \u001b[0mresponse\u001b[0m\u001b[1;33m[\u001b[0m\u001b[1;34m\"value\"\u001b[0m\u001b[1;33m]\u001b[0m \u001b[1;33m=\u001b[0m \u001b[0mself\u001b[0m\u001b[1;33m.\u001b[0m\u001b[0m_unwrap_value\u001b[0m\u001b[1;33m(\u001b[0m\u001b[0mresponse\u001b[0m\u001b[1;33m.\u001b[0m\u001b[0mget\u001b[0m\u001b[1;33m(\u001b[0m\u001b[1;34m\"value\"\u001b[0m\u001b[1;33m,\u001b[0m \u001b[1;32mNone\u001b[0m\u001b[1;33m)\u001b[0m\u001b[1;33m)\u001b[0m\u001b[1;33m\u001b[0m\u001b[1;33m\u001b[0m\u001b[0m\n\u001b[0;32m    442\u001b[0m             \u001b[1;32mreturn\u001b[0m \u001b[0mresponse\u001b[0m\u001b[1;33m\u001b[0m\u001b[1;33m\u001b[0m\u001b[0m\n",
      "\u001b[1;32m~\\anaconda3\\lib\\site-packages\\selenium\\webdriver\\remote\\errorhandler.py\u001b[0m in \u001b[0;36mcheck_response\u001b[1;34m(self, response)\u001b[0m\n\u001b[0;32m    243\u001b[0m                 \u001b[0malert_text\u001b[0m \u001b[1;33m=\u001b[0m \u001b[0mvalue\u001b[0m\u001b[1;33m[\u001b[0m\u001b[1;34m\"alert\"\u001b[0m\u001b[1;33m]\u001b[0m\u001b[1;33m.\u001b[0m\u001b[0mget\u001b[0m\u001b[1;33m(\u001b[0m\u001b[1;34m\"text\"\u001b[0m\u001b[1;33m)\u001b[0m\u001b[1;33m\u001b[0m\u001b[1;33m\u001b[0m\u001b[0m\n\u001b[0;32m    244\u001b[0m             \u001b[1;32mraise\u001b[0m \u001b[0mexception_class\u001b[0m\u001b[1;33m(\u001b[0m\u001b[0mmessage\u001b[0m\u001b[1;33m,\u001b[0m \u001b[0mscreen\u001b[0m\u001b[1;33m,\u001b[0m \u001b[0mstacktrace\u001b[0m\u001b[1;33m,\u001b[0m \u001b[0malert_text\u001b[0m\u001b[1;33m)\u001b[0m  \u001b[1;31m# type: ignore[call-arg]  # mypy is not smart enough here\u001b[0m\u001b[1;33m\u001b[0m\u001b[1;33m\u001b[0m\u001b[0m\n\u001b[1;32m--> 245\u001b[1;33m         \u001b[1;32mraise\u001b[0m \u001b[0mexception_class\u001b[0m\u001b[1;33m(\u001b[0m\u001b[0mmessage\u001b[0m\u001b[1;33m,\u001b[0m \u001b[0mscreen\u001b[0m\u001b[1;33m,\u001b[0m \u001b[0mstacktrace\u001b[0m\u001b[1;33m)\u001b[0m\u001b[1;33m\u001b[0m\u001b[1;33m\u001b[0m\u001b[0m\n\u001b[0m",
      "\u001b[1;31mNoSuchElementException\u001b[0m: Message: no such element: Unable to locate element: {\"method\":\"css selector\",\"selector\":\"[id=\"_aa48\"]\"}\n  (Session info: chrome=113.0.5672.94)\nStacktrace:\nBacktrace:\n\tGetHandleVerifier [0x00C9DCE3+50899]\n\t(No symbol) [0x00C2E111]\n\t(No symbol) [0x00B35588]\n\t(No symbol) [0x00B608F9]\n\t(No symbol) [0x00B60AFB]\n\t(No symbol) [0x00B8F902]\n\t(No symbol) [0x00B7B944]\n\t(No symbol) [0x00B8E01C]\n\t(No symbol) [0x00B7B6F6]\n\t(No symbol) [0x00B57708]\n\t(No symbol) [0x00B5886D]\n\tGetHandleVerifier [0x00F03EAE+2566302]\n\tGetHandleVerifier [0x00F392B1+2784417]\n\tGetHandleVerifier [0x00F3327C+2759788]\n\tGetHandleVerifier [0x00D35740+672048]\n\t(No symbol) [0x00C38872]\n\t(No symbol) [0x00C341C8]\n\t(No symbol) [0x00C342AB]\n\t(No symbol) [0x00C271B7]\n\tBaseThreadInitThunk [0x765C00C9+25]\n\tRtlGetAppContainerNamedObjectPath [0x77857B4E+286]\n\tRtlGetAppContainerNamedObjectPath [0x77857B1E+238]\n"
     ]
    }
   ],
   "source": [
    "from selenium import webdriver\n",
    "from selenium.webdriver.common.by import By\n",
    "from selenium.webdriver.support.ui import WebDriverWait\n",
    "from selenium.webdriver.support import expected_conditions as EC\n",
    "\n",
    "# Inicializar o driver do Selenium\n",
    "driver = webdriver.Chrome()  # Certifique-se de ter o driver do Chrome instalado e na variável de ambiente PATH\n",
    "\n",
    "# Navegar até a página de login\n",
    "driver.get('https://www.instagram.com')"
   ]
  },
  {
   "cell_type": "code",
   "execution_count": 18,
   "id": "f221858e",
   "metadata": {},
   "outputs": [],
   "source": [
    "# Localizar os campos de login e senha e preenchê-los\n",
    "login = driver.find_element(By.CLASS_NAME, '_aa48')  # Substitua 'id_do_campo_de_login' pelo ID correto do campo de login\n",
    "senha = driver.find_element(By.XPATH, '//*[@id=\"loginForm\"]/div/div[2]/div/label/input')  # Substitua 'id_do_campo_de_senha' pelo ID correto do campo de senha\n",
    "\n",
    "login.send_keys('opa_quadrado')  # Substitua 'SEU_LOGIN' pelo login correto\n",
    "senha.send_keys('deuzinho2023')  # Substitua 'SUA_SENHA' pela senha correta\n",
    "\n"
   ]
  },
  {
   "cell_type": "code",
   "execution_count": 20,
   "id": "cd6f6fc7",
   "metadata": {},
   "outputs": [],
   "source": [
    "# Enviar o formulário de login\n",
    "formulario = driver.find_element(By.ID, 'loginForm')  # Substitua 'id_do_formulario_de_login' pelo ID correto do formulário de login\n",
    "formulario.submit()"
   ]
  },
  {
   "cell_type": "code",
   "execution_count": 30,
   "id": "16ea0fc1",
   "metadata": {},
   "outputs": [
    {
     "ename": "IndentationError",
     "evalue": "expected an indented block (1078202965.py, line 34)",
     "output_type": "error",
     "traceback": [
      "\u001b[1;36m  File \u001b[1;32m\"C:\\Users\\GQuad\\AppData\\Local\\Temp\\ipykernel_11484\\1078202965.py\"\u001b[1;36m, line \u001b[1;32m34\u001b[0m\n\u001b[1;33m    # Se não for possível encontrar o botão \"Próximo\" ou ocorrer\u001b[0m\n\u001b[1;37m                                                                ^\u001b[0m\n\u001b[1;31mIndentationError\u001b[0m\u001b[1;31m:\u001b[0m expected an indented block\n"
     ]
    }
   ],
   "source": [
    "# Aguardar a página carregar após o login\n",
    "WebDriverWait(driver, 10).until(EC.title_contains('Instagram'))  # Substitua 'Título_da_Página_Logada' pelo título correto da página logada\n",
    "\n",
    "# Navegar até a página dos stories\n",
    "driver.get('https://www.instagram.com/stories/pedrophbo/3105426406250586436/')\n",
    "\n",
    "# Criar uma lista para armazenar os links \"Saiba mais\"\n",
    "links_saiba_mais = []\n",
    "\n",
    "while True:\n",
    "    # Verificar se a opção \"Saiba mais\" está presente\n",
    "    saiba_mais_presente = driver.find_elements(By.CLASS_NAME, '_adt1')  # Substitua 'saiba-mais' pela classe correta do botão \"Saiba mais\"\n",
    "\n",
    "    if saiba_mais_presente:\n",
    "        # Se a opção \"Saiba mais\" está presente, extrair o link e adicioná-lo à lista\n",
    "        link_saiba_mais = saiba_mais_presente[0].get_attribute('href')\n",
    "        links_saiba_mais.append(link_saiba_mais)\n",
    "        \n",
    "        # Continue com as ações que você deseja realizar quando a opção \"Saiba mais\" está presente\n",
    "        \n",
    "        # Volte para a página dos stories\n",
    "        driver.back()\n",
    "    else:\n",
    "        # Se a opção \"Saiba mais\" não está presente, avance para o próximo story\n",
    "        try:\n",
    "            # Espere até que o botão \"Próximo\" esteja clicável\n",
    "            proximo = WebDriverWait(driver, 10).until(\n",
    "                EC.element_to_be_clickable((By.CLASS_NAME, ' _9zm2'))  # Substitua 'proximo' pela classe correta do botão \"Próximo\"\n",
    "            )\n",
    "            \n",
    "            # Clique no botão \"Próximo\"\n",
    "            proximo.click()\n",
    "        except:\n",
    "            # Se não for possível encontrar o botão \"Próximo\" ou ocorrer"
   ]
  },
  {
   "cell_type": "code",
   "execution_count": null,
   "id": "2d525806",
   "metadata": {},
   "outputs": [],
   "source": [
    "\n"
   ]
  },
  {
   "cell_type": "code",
   "execution_count": null,
   "id": "3a2fb227",
   "metadata": {},
   "outputs": [],
   "source": []
  }
 ],
 "metadata": {
  "kernelspec": {
   "display_name": "Python 3 (ipykernel)",
   "language": "python",
   "name": "python3"
  },
  "language_info": {
   "codemirror_mode": {
    "name": "ipython",
    "version": 3
   },
   "file_extension": ".py",
   "mimetype": "text/x-python",
   "name": "python",
   "nbconvert_exporter": "python",
   "pygments_lexer": "ipython3",
   "version": "3.9.13"
  }
 },
 "nbformat": 4,
 "nbformat_minor": 5
}
