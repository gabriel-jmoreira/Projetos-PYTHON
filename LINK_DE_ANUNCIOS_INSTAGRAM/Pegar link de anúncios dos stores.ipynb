{
 "cells": [
  {
   "cell_type": "code",
   "execution_count": 9,
   "id": "151962ae",
   "metadata": {},
   "outputs": [],
   "source": [
    "from selenium import webdriver\n",
    "from selenium.webdriver.chrome.service import Service\n",
    "from webdriver_manager.chrome import ChromeDriverManager\n",
    "from selenium.webdriver.common.by import By\n",
    "\n",
    "\n",
    "servico = Service(ChromeDriverManager().install())\n",
    "navegador = webdriver.Chrome(service=servico)\n",
    "\n",
    "#aqui nesta etapa você escolhe por meio do GET qual site\n",
    "navegador.get('https://www.instagram.com/')"
   ]
  },
  {
   "cell_type": "code",
   "execution_count": 19,
   "id": "31a81342",
   "metadata": {},
   "outputs": [],
   "source": [
    "#LOGAR NO INSTAGRAM\n",
    "#E-mail para logar no instagram\n",
    "login = navegador.find_element(By.XPATH, '//*[@id=\"loginForm\"]/div/div[1]/div/label/input').send_keys('g.quadrado@outlook.com')\n",
    "#Senha do linkedin\n",
    "senha = navegador.find_element(By.XPATH, '//*[@id=\"loginForm\"]/div/div[2]/div/label/input').send_keys('deuzinho2023')\n",
    "#clicar em entrar\n",
    "campo_entrar = navegador.find_element(By.CLASS_NAME, 'x9f619').click()"
   ]
  },
  {
   "cell_type": "code",
   "execution_count": null,
   "id": "12692c93",
   "metadata": {},
   "outputs": [],
   "source": [
    "lista_elementos = navegador.find_elements(By.CLASS_NAME, 'card')\n",
    "\n",
    "for elemento in lista_elementos:\n",
    "    link = elemento.find_element(By.TAG_NAME, 'a').get_attribute('href')\n",
    "    print(link)"
   ]
  }
 ],
 "metadata": {
  "kernelspec": {
   "display_name": "Python 3 (ipykernel)",
   "language": "python",
   "name": "python3"
  },
  "language_info": {
   "codemirror_mode": {
    "name": "ipython",
    "version": 3
   },
   "file_extension": ".py",
   "mimetype": "text/x-python",
   "name": "python",
   "nbconvert_exporter": "python",
   "pygments_lexer": "ipython3",
   "version": "3.9.13"
  }
 },
 "nbformat": 4,
 "nbformat_minor": 5
}
