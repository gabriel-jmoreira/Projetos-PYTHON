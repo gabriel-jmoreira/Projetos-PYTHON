{
 "cells": [
  {
   "cell_type": "code",
   "execution_count": 7,
   "id": "d78d44c7",
   "metadata": {},
   "outputs": [
    {
     "ename": "IndentationError",
     "evalue": "unexpected indent (2553112027.py, line 13)",
     "output_type": "error",
     "traceback": [
      "\u001b[1;36m  File \u001b[1;32m\"C:\\Users\\GQuad\\AppData\\Local\\Temp\\ipykernel_8244\\2553112027.py\"\u001b[1;36m, line \u001b[1;32m13\u001b[0m\n\u001b[1;33m    print('enviado')\u001b[0m\n\u001b[1;37m    ^\u001b[0m\n\u001b[1;31mIndentationError\u001b[0m\u001b[1;31m:\u001b[0m unexpected indent\n"
     ]
    }
   ],
   "source": [
    "import win32com.client as win32\n",
    "\n",
    "#Cria a autenticação com outlook\n",
    "outlook = win32.Dispatch('Outlook.application')\n",
    "\n",
    "#criar emails\n",
    "email = outlook.CreateItem(0)\n",
    "\n",
    "#configurar as informações do emails\n",
    "email.To = \"gg.quadrado@outlook.com\"\n",
    "email.Subject = \"E-mails automatico do python\"\n",
    "email.HTMLBody = \"Corpo do E-mails\"\n",
    "print('enviado')"
   ]
  },
  {
   "cell_type": "code",
   "execution_count": null,
   "id": "448443aa",
   "metadata": {},
   "outputs": [],
   "source": []
  }
 ],
 "metadata": {
  "kernelspec": {
   "display_name": "Python 3 (ipykernel)",
   "language": "python",
   "name": "python3"
  },
  "language_info": {
   "codemirror_mode": {
    "name": "ipython",
    "version": 3
   },
   "file_extension": ".py",
   "mimetype": "text/x-python",
   "name": "python",
   "nbconvert_exporter": "python",
   "pygments_lexer": "ipython3",
   "version": "3.9.13"
  }
 },
 "nbformat": 4,
 "nbformat_minor": 5
}
