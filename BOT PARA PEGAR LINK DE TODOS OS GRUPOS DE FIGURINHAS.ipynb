{
 "cells": [
  {
   "cell_type": "code",
   "execution_count": 1,
   "id": "8391ea81",
   "metadata": {},
   "outputs": [],
   "source": [
    "from selenium import webdriver\n",
    "from selenium.webdriver.chrome.service import Service\n",
    "from webdriver_manager.chrome import ChromeDriverManager\n",
    "from selenium.webdriver.common.by import By\n",
    "\n",
    "\n",
    "servico = Service(ChromeDriverManager().install())\n",
    "navegador = webdriver.Chrome(service=servico)\n",
    "\n",
    "#aqui nesta etapa você escolhe por meio do GET qual site\n",
    "navegador.get('https://gruposwhats.app/category/grupo-figurinhas-whatsapp')\n",
    "\n"
   ]
  },
  {
   "cell_type": "code",
   "execution_count": 4,
   "id": "713a2488",
   "metadata": {
    "scrolled": true
   },
   "outputs": [
    {
     "name": "stdout",
     "output_type": "stream",
     "text": [
      "https://gruposwhats.app/group/618314\n",
      "https://gruposwhats.app/group/610803\n",
      "https://gruposwhats.app/group/568765\n",
      "https://gruposwhats.app/group/515195\n",
      "https://gruposwhats.app/group/617485\n",
      "https://gruposwhats.app/group/595667\n",
      "https://gruposwhats.app/group/615466\n",
      "https://gruposwhats.app/group/601591\n",
      "https://gruposwhats.app/group/617504\n",
      "https://gruposwhats.app/group/591889\n",
      "https://gruposwhats.app/group/492994\n",
      "https://gruposwhats.app/group/608531\n",
      "https://gruposwhats.app/group/569632\n",
      "https://gruposwhats.app/group/341980\n",
      "https://gruposwhats.app/group/600511\n",
      "https://gruposwhats.app/group/600104\n",
      "https://gruposwhats.app/group/612082\n",
      "https://gruposwhats.app/group/601742\n",
      "https://gruposwhats.app/group/567734\n",
      "https://gruposwhats.app/group/587367\n",
      "https://gruposwhats.app/group/617245\n",
      "https://gruposwhats.app/group/617249\n",
      "https://gruposwhats.app/group/383701\n",
      "https://gruposwhats.app/group/593197\n"
     ]
    }
   ],
   "source": [
    "lista_elementos = navegador.find_elements(By.CLASS_NAME, 'card')\n",
    "\n",
    "for elemento in lista_elementos:\n",
    "    link = elemento.find_element(By.TAG_NAME, 'a').get_attribute('href')\n",
    "    print(link)"
   ]
  },
  {
   "cell_type": "code",
   "execution_count": null,
   "id": "8cba3ec8",
   "metadata": {},
   "outputs": [],
   "source": []
  }
 ],
 "metadata": {
  "kernelspec": {
   "display_name": "Python 3 (ipykernel)",
   "language": "python",
   "name": "python3"
  },
  "language_info": {
   "codemirror_mode": {
    "name": "ipython",
    "version": 3
   },
   "file_extension": ".py",
   "mimetype": "text/x-python",
   "name": "python",
   "nbconvert_exporter": "python",
   "pygments_lexer": "ipython3",
   "version": "3.9.13"
  }
 },
 "nbformat": 4,
 "nbformat_minor": 5
}
